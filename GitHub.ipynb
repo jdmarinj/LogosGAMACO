{
  "nbformat": 4,
  "nbformat_minor": 0,
  "metadata": {
    "colab": {
      "name": "Taller1_ML.ipynb",
      "provenance": [],
      "include_colab_link": true
    },
    "kernelspec": {
      "name": "python3",
      "display_name": "Python 3"
    },
    "language_info": {
      "name": "python"
    }
  },
  "cells": [
    {
      "cell_type": "markdown",
      "metadata": {
        "id": "view-in-github",
        "colab_type": "text"
      },
      "source": [
        "<a href=\"https://colab.research.google.com/github/jdmarinj/LogosGAMACO/blob/master/GitHub.ipynb\" target=\"_parent\"><img src=\"https://colab.research.google.com/assets/colab-badge.svg\" alt=\"Open In Colab\"/></a>"
      ]
    },
    {
      "cell_type": "markdown",
      "source": [
        "<div align=\"center\"><a href=\"https://colab.research.google.com/drive/1ofLDKndcz-geHYEjdBSs2GaCrmrO4rDX?hl=es#scrollTo=D8bPYu8sCZKA.ipynb\"> <img src='https://colab.research.google.com/assets/colab-badge.svg'/> </a> <br> Recordá abrir en una nueva pestaña </div>"
      ],
      "metadata": {
        "id": "D8bPYu8sCZKA"
      }
    },
    {
      "cell_type": "markdown",
      "source": [
        "<h1><center><b>✨ Taller de Machine Learning con Python para Ingeniería Eléctrica✨</b></center></h1>\n",
        "\n",
        "## [Universidad Nacional de Colombia - Sede Manizales](https://www.manizales.unal.edu.co/)\n",
        " \n",
        "\n",
        "#### Dictado por [Dr. Ing. Juan David Marín Jiménez](https://www.linkedin.com/in/juan-david-marin-jimenez/)\n",
        "\n",
        "# Pandas, Nunpy, Confiabilidad, Sistemas Eléctricos\n",
        "\n",
        "### Hoja de ruta\n",
        "\n",
        "-   Ejemplo scrapeo sencillo\t\t\t\t\n",
        "-   Uso de la API de *Google Sheets*.\t\t\t\t\t\t\t\n",
        "-   Ejemplo envío automático de mail con *smtplib*.\n",
        "-   Generación de reportes automáticos con python-docx\n",
        "-   Extraccion de datos y generación de PDFs\n",
        "-   Scheduling: cron para Mac y linux, GUI en Windows.\t\t"
      ],
      "metadata": {
        "id": "X5OEOA3eCvXc"
      }
    },
    {
      "cell_type": "code",
      "source": [],
      "metadata": {
        "id": "uJpn11sHBD4k"
      },
      "execution_count": null,
      "outputs": []
    }
  ]
}